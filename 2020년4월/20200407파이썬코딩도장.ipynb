{
 "cells": [
  {
   "cell_type": "markdown",
   "metadata": {
    "toc": true
   },
   "source": [
    "<h1><span class=\"tocSkip\"></span></h1>\n",
    "<div class=\"toc\"><ul class=\"toc-item\"><li><span><a href=\"#버전비교\" data-toc-modified-id=\"버전비교-1\">버전비교</a></span></li><li><span><a href=\"#풀이\" data-toc-modified-id=\"풀이-2\">풀이</a></span></li><li><span><a href=\"#1~1000에서-각-숫자의-개수-구하기\" data-toc-modified-id=\"1~1000에서-각-숫자의-개수-구하기-3\">1~1000에서 각 숫자의 개수 구하기</a></span></li><li><span><a href=\"#풀이\" data-toc-modified-id=\"풀이-4\">풀이</a></span></li></ul></div>"
   ]
  },
  {
   "cell_type": "markdown",
   "metadata": {},
   "source": [
    "# 버전비교"
   ]
  },
  {
   "cell_type": "markdown",
   "metadata": {},
   "source": [
    "문제 : http://codingdojang.com/scode/493?answer_mode=hide"
   ]
  },
  {
   "cell_type": "markdown",
   "metadata": {},
   "source": [
    "# 풀이"
   ]
  },
  {
   "cell_type": "markdown",
   "metadata": {},
   "source": [
    "이거는 뭐... 새로운 모듈을 배워간다.. ㅜ"
   ]
  },
  {
   "cell_type": "code",
   "execution_count": 39,
   "metadata": {
    "ExecuteTime": {
     "end_time": "2020-04-07T03:04:11.470916Z",
     "start_time": "2020-04-07T03:04:11.463932Z"
    }
   },
   "outputs": [
    {
     "name": "stdout",
     "output_type": "stream",
     "text": [
      "0.0.2 > 0.0.1\n",
      "1.0.10 > 1.0.3\n",
      "1.2.0 > 1.1.99\n",
      "1.1 > 1.0.1\n"
     ]
    }
   ],
   "source": [
    "from itertools import zip_longest\n",
    "\n",
    "def compare(left, right):\n",
    "    left_vars = map(int, left.split('.'))\n",
    "    right_vars = map(int, right.split('.'))\n",
    "    for a, b in zip_longest(left_vars, right_vars, fillvalue = 0):\n",
    "        if a > b:\n",
    "            return '>'\n",
    "        elif a < b:\n",
    "            return '<'\n",
    "    return '='\n",
    "\n",
    "CASES = [['0.0.2', '0.0.1'],\n",
    "         ['1.0.10', '1.0.3'],\n",
    "         ['1.2.0', '1.1.99'],\n",
    "         ['1.1', '1.0.1']]\n",
    "\n",
    "if __name__ == '__main__':\n",
    "    for case in CASES:\n",
    "        print(f'{case[0]} {compare(*case)} {case[1]}')"
   ]
  },
  {
   "cell_type": "markdown",
   "metadata": {},
   "source": [
    "# 1~1000에서 각 숫자의 개수 구하기"
   ]
  },
  {
   "cell_type": "markdown",
   "metadata": {},
   "source": [
    "문제 : http://codingdojang.com/scode/504?answer_mode=hide"
   ]
  },
  {
   "cell_type": "markdown",
   "metadata": {},
   "source": [
    "# 풀이"
   ]
  },
  {
   "cell_type": "code",
   "execution_count": 40,
   "metadata": {
    "ExecuteTime": {
     "end_time": "2020-04-07T03:04:13.119508Z",
     "start_time": "2020-04-07T03:04:13.111529Z"
    },
    "scrolled": false
   },
   "outputs": [
    {
     "name": "stdout",
     "output_type": "stream",
     "text": [
      "0 : 192\n",
      "1 : 301\n",
      "2 : 300\n",
      "3 : 300\n",
      "4 : 300\n",
      "5 : 300\n",
      "6 : 300\n",
      "7 : 300\n",
      "8 : 300\n",
      "9 : 300\n"
     ]
    }
   ],
   "source": [
    "temp=[]\n",
    "for i in range(1, 1001):\n",
    "    for j in str(i):\n",
    "        temp.append(j)\n",
    "        \n",
    "for i in range(10):\n",
    "    cnt=temp.count(str(i))\n",
    "    print(f'{i} : {cnt}')"
   ]
  },
  {
   "cell_type": "code",
   "execution_count": 41,
   "metadata": {
    "ExecuteTime": {
     "end_time": "2020-04-07T03:04:13.678015Z",
     "start_time": "2020-04-07T03:04:13.671038Z"
    }
   },
   "outputs": [
    {
     "name": "stdout",
     "output_type": "stream",
     "text": [
      "{0: 192, 1: 301, 2: 300, 3: 300, 4: 300, 5: 300, 6: 300, 7: 300, 8: 300, 9: 300}\n"
     ]
    }
   ],
   "source": [
    "count={ x:0 for x in range(0,10) }\n",
    "\n",
    "for x in range(1,1001):\n",
    "    for i in str(x):\n",
    "        count[int(i)]+=1\n",
    "\n",
    "print(count)"
   ]
  },
  {
   "cell_type": "code",
   "execution_count": null,
   "metadata": {},
   "outputs": [],
   "source": []
  }
 ],
 "metadata": {
  "hide_input": false,
  "kernelspec": {
   "display_name": "Python 3",
   "language": "python",
   "name": "python3"
  },
  "language_info": {
   "codemirror_mode": {
    "name": "ipython",
    "version": 3
   },
   "file_extension": ".py",
   "mimetype": "text/x-python",
   "name": "python",
   "nbconvert_exporter": "python",
   "pygments_lexer": "ipython3",
   "version": "3.7.6"
  },
  "toc": {
   "base_numbering": 1,
   "nav_menu": {},
   "number_sections": false,
   "sideBar": true,
   "skip_h1_title": false,
   "title_cell": "",
   "title_sidebar": "Contents",
   "toc_cell": true,
   "toc_position": {
    "height": "calc(100% - 180px)",
    "left": "10px",
    "top": "150px",
    "width": "165px"
   },
   "toc_section_display": true,
   "toc_window_display": true
  },
  "varInspector": {
   "cols": {
    "lenName": 16,
    "lenType": 16,
    "lenVar": 40
   },
   "kernels_config": {
    "python": {
     "delete_cmd_postfix": "",
     "delete_cmd_prefix": "del ",
     "library": "var_list.py",
     "varRefreshCmd": "print(var_dic_list())"
    },
    "r": {
     "delete_cmd_postfix": ") ",
     "delete_cmd_prefix": "rm(",
     "library": "var_list.r",
     "varRefreshCmd": "cat(var_dic_list()) "
    }
   },
   "types_to_exclude": [
    "module",
    "function",
    "builtin_function_or_method",
    "instance",
    "_Feature"
   ],
   "window_display": false
  }
 },
 "nbformat": 4,
 "nbformat_minor": 2
}
