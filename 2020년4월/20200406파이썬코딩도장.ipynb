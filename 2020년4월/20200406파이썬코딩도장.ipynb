{
 "cells": [
  {
   "cell_type": "markdown",
   "metadata": {
    "toc": true
   },
   "source": [
    "<h1><span class=\"tocSkip\"></span></h1>\n",
    "<div class=\"toc\"><ul class=\"toc-item\"><li><span><a href=\"#가성비-최대화\" data-toc-modified-id=\"가성비-최대화-1\">가성비 최대화</a></span></li><li><span><a href=\"#풀이\" data-toc-modified-id=\"풀이-2\">풀이</a></span></li><li><span><a href=\"#Printing-OXs\" data-toc-modified-id=\"Printing-OXs-3\">Printing OXs</a></span></li><li><span><a href=\"#풀이\" data-toc-modified-id=\"풀이-4\">풀이</a></span></li></ul></div>"
   ]
  },
  {
   "cell_type": "markdown",
   "metadata": {},
   "source": [
    "# 가성비 최대화"
   ]
  },
  {
   "cell_type": "markdown",
   "metadata": {},
   "source": [
    "문제 : http://codingdojang.com/scode/490?answer_mode=hide"
   ]
  },
  {
   "cell_type": "markdown",
   "metadata": {},
   "source": [
    "# 풀이"
   ]
  },
  {
   "cell_type": "code",
   "execution_count": 16,
   "metadata": {
    "ExecuteTime": {
     "end_time": "2020-04-06T04:27:11.235840Z",
     "start_time": "2020-04-06T04:27:11.229861Z"
    }
   },
   "outputs": [
    {
     "name": "stdout",
     "output_type": "stream",
     "text": [
      "17\n"
     ]
    }
   ],
   "source": [
    "orp = 10\n",
    "org = 150\n",
    "adp = 3\n",
    "adg = [30, 70, 15, 40, 65]\n",
    "\n",
    "adg.sort(reverse=True)\n",
    "\n",
    "for i in adg :\n",
    "    if  org / orp > ( org + i ) / ( orp + adp )  :\n",
    "        break\n",
    "    else : \n",
    "        org += i\n",
    "        orp += adp \n",
    "\n",
    "print(int(org /orp))"
   ]
  },
  {
   "cell_type": "markdown",
   "metadata": {},
   "source": [
    "# Printing OXs\n"
   ]
  },
  {
   "cell_type": "markdown",
   "metadata": {},
   "source": [
    "문제 : http://codingdojang.com/scode/492?answer_mode=hide"
   ]
  },
  {
   "cell_type": "markdown",
   "metadata": {},
   "source": [
    "# 풀이"
   ]
  },
  {
   "cell_type": "code",
   "execution_count": 17,
   "metadata": {
    "ExecuteTime": {
     "end_time": "2020-04-06T04:27:13.959585Z",
     "start_time": "2020-04-06T04:27:12.388759Z"
    },
    "scrolled": true
   },
   "outputs": [
    {
     "name": "stdout",
     "output_type": "stream",
     "text": [
      "정수를 입력하시오:6\n",
      "OOOOOX\n",
      "OOOOXX\n",
      "OOOXXX\n",
      "OOXXXX\n",
      "OXXXXX\n",
      "XXXXXX\n"
     ]
    }
   ],
   "source": [
    "print((lambda n: '\\n'.join('O'*(n-i) + 'X'*i for i in range(1,n+1)))(int(input('정수를 입력하시오:'))))"
   ]
  },
  {
   "cell_type": "code",
   "execution_count": null,
   "metadata": {},
   "outputs": [],
   "source": []
  }
 ],
 "metadata": {
  "hide_input": false,
  "kernelspec": {
   "display_name": "Python 3",
   "language": "python",
   "name": "python3"
  },
  "language_info": {
   "codemirror_mode": {
    "name": "ipython",
    "version": 3
   },
   "file_extension": ".py",
   "mimetype": "text/x-python",
   "name": "python",
   "nbconvert_exporter": "python",
   "pygments_lexer": "ipython3",
   "version": "3.7.6"
  },
  "toc": {
   "base_numbering": 1,
   "nav_menu": {},
   "number_sections": false,
   "sideBar": true,
   "skip_h1_title": false,
   "title_cell": "",
   "title_sidebar": "Contents",
   "toc_cell": true,
   "toc_position": {
    "height": "calc(100% - 180px)",
    "left": "10px",
    "top": "150px",
    "width": "165px"
   },
   "toc_section_display": true,
   "toc_window_display": true
  },
  "varInspector": {
   "cols": {
    "lenName": 16,
    "lenType": 16,
    "lenVar": 40
   },
   "kernels_config": {
    "python": {
     "delete_cmd_postfix": "",
     "delete_cmd_prefix": "del ",
     "library": "var_list.py",
     "varRefreshCmd": "print(var_dic_list())"
    },
    "r": {
     "delete_cmd_postfix": ") ",
     "delete_cmd_prefix": "rm(",
     "library": "var_list.r",
     "varRefreshCmd": "cat(var_dic_list()) "
    }
   },
   "types_to_exclude": [
    "module",
    "function",
    "builtin_function_or_method",
    "instance",
    "_Feature"
   ],
   "window_display": false
  }
 },
 "nbformat": 4,
 "nbformat_minor": 2
}
