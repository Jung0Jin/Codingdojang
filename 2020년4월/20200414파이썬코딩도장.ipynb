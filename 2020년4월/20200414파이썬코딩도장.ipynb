{
  "nbformat": 4,
  "nbformat_minor": 0,
  "metadata": {
    "hide_input": false,
    "kernelspec": {
      "display_name": "Python 3",
      "language": "python",
      "name": "python3"
    },
    "language_info": {
      "codemirror_mode": {
        "name": "ipython",
        "version": 3
      },
      "file_extension": ".py",
      "mimetype": "text/x-python",
      "name": "python",
      "nbconvert_exporter": "python",
      "pygments_lexer": "ipython3",
      "version": "3.7.6"
    },
    "toc": {
      "base_numbering": 1,
      "nav_menu": {},
      "number_sections": false,
      "sideBar": true,
      "skip_h1_title": false,
      "title_cell": "",
      "title_sidebar": "Contents",
      "toc_cell": true,
      "toc_position": {
        "height": "calc(100% - 180px)",
        "left": "10px",
        "top": "150px",
        "width": "165px"
      },
      "toc_section_display": true,
      "toc_window_display": true
    },
    "varInspector": {
      "cols": {
        "lenName": 16,
        "lenType": 16,
        "lenVar": 40
      },
      "kernels_config": {
        "python": {
          "delete_cmd_postfix": "",
          "delete_cmd_prefix": "del ",
          "library": "var_list.py",
          "varRefreshCmd": "print(var_dic_list())"
        },
        "r": {
          "delete_cmd_postfix": ") ",
          "delete_cmd_prefix": "rm(",
          "library": "var_list.r",
          "varRefreshCmd": "cat(var_dic_list()) "
        }
      },
      "types_to_exclude": [
        "module",
        "function",
        "builtin_function_or_method",
        "instance",
        "_Feature"
      ],
      "window_display": false
    },
    "colab": {
      "name": "20200414파이썬코딩도장",
      "provenance": [],
      "collapsed_sections": [],
      "toc_visible": true,
      "include_colab_link": true
    }
  },
  "cells": [
    {
      "cell_type": "markdown",
      "metadata": {
        "id": "view-in-github",
        "colab_type": "text"
      },
      "source": [
        "<a href=\"https://colab.research.google.com/github/Jung0Jin/Codingdojang/blob/master/20200414%ED%8C%8C%EC%9D%B4%EC%8D%AC%EC%BD%94%EB%94%A9%EB%8F%84%EC%9E%A5.ipynb\" target=\"_parent\"><img src=\"https://colab.research.google.com/assets/colab-badge.svg\" alt=\"Open In Colab\"/></a>"
      ]
    },
    {
      "cell_type": "markdown",
      "metadata": {
        "id": "z2sVdkKBISX8",
        "colab_type": "text"
      },
      "source": [
        "# 완전수 구하기"
      ]
    },
    {
      "cell_type": "markdown",
      "metadata": {
        "id": "Q_BGbqITISX9",
        "colab_type": "text"
      },
      "source": [
        "문제 : http://codingdojang.com/scode/539?answer_mode=hide"
      ]
    },
    {
      "cell_type": "markdown",
      "metadata": {
        "id": "-QvUYWIJISX9",
        "colab_type": "text"
      },
      "source": [
        "## 풀이"
      ]
    },
    {
      "cell_type": "code",
      "metadata": {
        "id": "gyZQn-5USUy-",
        "colab_type": "code",
        "colab": {
          "base_uri": "https://localhost:8080/",
          "height": 89
        },
        "outputId": "c9ecc6f6-13aa-4302-de6c-bd6ea3829573"
      },
      "source": [
        "def FindPerfectnumber(num):\n",
        "  temp=0\n",
        "  for i in range(1, num+1):\n",
        "    if num % i == 0 and num != i:\n",
        "      temp+=i\n",
        "  if num == temp:\n",
        "    return print(temp)\n",
        "  else:\n",
        "    return None\n",
        "\n",
        "for num in range(1, int(input())+1):\n",
        "  FindPerfectnumber(num)"
      ],
      "execution_count": 43,
      "outputs": [
        {
          "output_type": "stream",
          "text": [
            "1000\n",
            "6\n",
            "28\n",
            "496\n"
          ],
          "name": "stdout"
        }
      ]
    },
    {
      "cell_type": "code",
      "metadata": {
        "id": "AgVmR5uIWlRv",
        "colab_type": "code",
        "colab": {
          "base_uri": "https://localhost:8080/",
          "height": 53
        },
        "outputId": "bfe57b37-9b02-4c5d-d89e-598736b0a7ad"
      },
      "source": [
        "# 출처 : 박 시우 님\n",
        "\n",
        "\n",
        "num= int(input(\"숫자를 입력하시오 : \"))\n",
        "print([x for x in range(1, num+1) if x==sum(y for y in range(1, x) if x%y==0)])"
      ],
      "execution_count": 45,
      "outputs": [
        {
          "output_type": "stream",
          "text": [
            "숫자를 입력하시오 : 1000\n",
            "[6, 28, 496]\n"
          ],
          "name": "stdout"
        }
      ]
    },
    {
      "cell_type": "code",
      "metadata": {
        "id": "OGgaluqFWwRO",
        "colab_type": "code",
        "colab": {
          "base_uri": "https://localhost:8080/",
          "height": 53
        },
        "outputId": "bafca225-24f4-45b5-c12c-12373ac73294"
      },
      "source": [
        "# 출처 : simkyohoon 님\n",
        "\n",
        "N = int(input(\"Input a natural number: \")) # 숫자를 하나 입력합니다. \n",
        "\n",
        "result = [] # 완전수를 저장할 리스트.\n",
        "\n",
        "for i in range(1, N+1): # 1부터 입력한 숫자까지\n",
        "    sum = 0\n",
        "    for j in range(1, i): # 1부터 i까지\n",
        "        if i%j==0:  \n",
        "            sum += j # 약수들의 합을 구합니다.\n",
        "\n",
        "    if i == sum: # 자신을 제외한 약수들의 합이 자신과 같으면, 즉 완전수면.. \n",
        "        result.append(i)\n",
        "\n",
        "print(result)"
      ],
      "execution_count": 46,
      "outputs": [
        {
          "output_type": "stream",
          "text": [
            "Input a natural number: 1000\n",
            "[6, 28, 496]\n"
          ],
          "name": "stdout"
        }
      ]
    },
    {
      "cell_type": "code",
      "metadata": {
        "id": "2EE4c1QnZOP7",
        "colab_type": "code",
        "colab": {}
      },
      "source": [
        "del sum # 위에서 sum이라는 변수를 만들어서 함수sum을 쓰려면 삭제해야한다."
      ],
      "execution_count": 0,
      "outputs": []
    },
    {
      "cell_type": "code",
      "metadata": {
        "id": "_ohL3k7SXoDp",
        "colab_type": "code",
        "colab": {
          "base_uri": "https://localhost:8080/",
          "height": 53
        },
        "outputId": "91939eaf-7196-4b42-9290-35fef93d4d53"
      },
      "source": [
        "# 출처 : 윤태호 님\n",
        "\n",
        "from math import *\n",
        "\n",
        "def isPerfectNumber(n):\n",
        "  divisors = [1,]\n",
        "  for i in range(2, floor(sqrt(n)) + 1):\n",
        "    if n % i == 0:\n",
        "      divisors.append(i)\n",
        "      divisors.append(int(n/i))\n",
        "  return sum(divisors) == n\n",
        "\n",
        "def main():\n",
        "  perfectNumbers = []\n",
        "  N = int(input('Input Number : '))\n",
        "  for i in range(1, N+1):\n",
        "    if isPerfectNumber(i):\n",
        "      perfectNumbers.append(i)\n",
        "  if perfectNumbers:\n",
        "    print(\"PerfectNumber :\", perfectNumbers)\n",
        "\n",
        "if __name__ == '__main__':\n",
        "  main()"
      ],
      "execution_count": 49,
      "outputs": [
        {
          "output_type": "stream",
          "text": [
            "Input Number : 1000\n",
            "PerfectNumber : [1, 6, 28, 496]\n"
          ],
          "name": "stdout"
        }
      ]
    },
    {
      "cell_type": "code",
      "metadata": {
        "id": "fxtfkucIZDjB",
        "colab_type": "code",
        "colab": {}
      },
      "source": [
        ""
      ],
      "execution_count": 0,
      "outputs": []
    }
  ]
}