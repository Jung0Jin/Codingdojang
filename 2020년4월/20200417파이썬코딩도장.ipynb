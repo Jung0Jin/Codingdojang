{
  "nbformat": 4,
  "nbformat_minor": 0,
  "metadata": {
    "hide_input": false,
    "kernelspec": {
      "display_name": "Python 3",
      "language": "python",
      "name": "python3"
    },
    "language_info": {
      "codemirror_mode": {
        "name": "ipython",
        "version": 3
      },
      "file_extension": ".py",
      "mimetype": "text/x-python",
      "name": "python",
      "nbconvert_exporter": "python",
      "pygments_lexer": "ipython3",
      "version": "3.7.6"
    },
    "toc": {
      "base_numbering": 1,
      "nav_menu": {},
      "number_sections": false,
      "sideBar": true,
      "skip_h1_title": false,
      "title_cell": "",
      "title_sidebar": "Contents",
      "toc_cell": true,
      "toc_position": {
        "height": "calc(100% - 180px)",
        "left": "10px",
        "top": "150px",
        "width": "165px"
      },
      "toc_section_display": true,
      "toc_window_display": true
    },
    "varInspector": {
      "cols": {
        "lenName": 16,
        "lenType": 16,
        "lenVar": 40
      },
      "kernels_config": {
        "python": {
          "delete_cmd_postfix": "",
          "delete_cmd_prefix": "del ",
          "library": "var_list.py",
          "varRefreshCmd": "print(var_dic_list())"
        },
        "r": {
          "delete_cmd_postfix": ") ",
          "delete_cmd_prefix": "rm(",
          "library": "var_list.r",
          "varRefreshCmd": "cat(var_dic_list()) "
        }
      },
      "types_to_exclude": [
        "module",
        "function",
        "builtin_function_or_method",
        "instance",
        "_Feature"
      ],
      "window_display": false
    },
    "colab": {
      "name": "20200417파이썬코딩도장",
      "provenance": [],
      "collapsed_sections": [],
      "toc_visible": true,
      "include_colab_link": true
    }
  },
  "cells": [
    {
      "cell_type": "markdown",
      "metadata": {
        "id": "view-in-github",
        "colab_type": "text"
      },
      "source": [
        "<a href=\"https://colab.research.google.com/github/Jung0Jin/Codingdojang/blob/master/20200417%ED%8C%8C%EC%9D%B4%EC%8D%AC%EC%BD%94%EB%94%A9%EB%8F%84%EC%9E%A5.ipynb\" target=\"_parent\"><img src=\"https://colab.research.google.com/assets/colab-badge.svg\" alt=\"Open In Colab\"/></a>"
      ]
    },
    {
      "cell_type": "markdown",
      "metadata": {
        "id": "z2sVdkKBISX8",
        "colab_type": "text"
      },
      "source": [
        "# 100까지의 자연수의 합의 제곱과 제곱의 합의 차이"
      ]
    },
    {
      "cell_type": "markdown",
      "metadata": {
        "id": "Q_BGbqITISX9",
        "colab_type": "text"
      },
      "source": [
        "문제 : http://codingdojang.com/scode/553?answer_mode=hide"
      ]
    },
    {
      "cell_type": "markdown",
      "metadata": {
        "id": "-QvUYWIJISX9",
        "colab_type": "text"
      },
      "source": [
        "## 풀이"
      ]
    },
    {
      "cell_type": "code",
      "metadata": {
        "id": "BuUgM68gqHab",
        "colab_type": "code",
        "outputId": "7f5e85a4-af95-4687-9cbb-f8c1ecd9722d",
        "colab": {
          "base_uri": "https://localhost:8080/",
          "height": 71
        }
      },
      "source": [
        "a=[i**2 for i in range(1, 101)]\n",
        "sum_a = sum(a)\n",
        "print(sum_a)\n",
        "b=[i for i in range(1, 101)]\n",
        "sum_b = sum(b)**2\n",
        "print(sum_b)\n",
        "\n",
        "print(sum_b - sum_a)"
      ],
      "execution_count": 10,
      "outputs": [
        {
          "output_type": "stream",
          "text": [
            "338350\n",
            "25502500\n",
            "25164150\n"
          ],
          "name": "stdout"
        }
      ]
    },
    {
      "cell_type": "code",
      "metadata": {
        "id": "WYOgPh6MqxLp",
        "colab_type": "code",
        "colab": {
          "base_uri": "https://localhost:8080/",
          "height": 35
        },
        "outputId": "24537dbf-da23-4508-edeb-93c5012b2527"
      },
      "source": [
        "# 룰루랄라 님\n",
        "print(abs(sum(range(1, 101))**2 - sum(x**2 for x in range(1, 101))))"
      ],
      "execution_count": 11,
      "outputs": [
        {
          "output_type": "stream",
          "text": [
            "25164150\n"
          ],
          "name": "stdout"
        }
      ]
    }
  ]
}