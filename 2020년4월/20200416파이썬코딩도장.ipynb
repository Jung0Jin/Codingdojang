{
  "nbformat": 4,
  "nbformat_minor": 0,
  "metadata": {
    "hide_input": false,
    "kernelspec": {
      "display_name": "Python 3",
      "language": "python",
      "name": "python3"
    },
    "language_info": {
      "codemirror_mode": {
        "name": "ipython",
        "version": 3
      },
      "file_extension": ".py",
      "mimetype": "text/x-python",
      "name": "python",
      "nbconvert_exporter": "python",
      "pygments_lexer": "ipython3",
      "version": "3.7.6"
    },
    "toc": {
      "base_numbering": 1,
      "nav_menu": {},
      "number_sections": false,
      "sideBar": true,
      "skip_h1_title": false,
      "title_cell": "",
      "title_sidebar": "Contents",
      "toc_cell": true,
      "toc_position": {
        "height": "calc(100% - 180px)",
        "left": "10px",
        "top": "150px",
        "width": "165px"
      },
      "toc_section_display": true,
      "toc_window_display": true
    },
    "varInspector": {
      "cols": {
        "lenName": 16,
        "lenType": 16,
        "lenVar": 40
      },
      "kernels_config": {
        "python": {
          "delete_cmd_postfix": "",
          "delete_cmd_prefix": "del ",
          "library": "var_list.py",
          "varRefreshCmd": "print(var_dic_list())"
        },
        "r": {
          "delete_cmd_postfix": ") ",
          "delete_cmd_prefix": "rm(",
          "library": "var_list.r",
          "varRefreshCmd": "cat(var_dic_list()) "
        }
      },
      "types_to_exclude": [
        "module",
        "function",
        "builtin_function_or_method",
        "instance",
        "_Feature"
      ],
      "window_display": false
    },
    "colab": {
      "name": "20200416파이썬코딩도장",
      "provenance": [],
      "collapsed_sections": [],
      "toc_visible": true,
      "include_colab_link": true
    }
  },
  "cells": [
    {
      "cell_type": "markdown",
      "metadata": {
        "id": "view-in-github",
        "colab_type": "text"
      },
      "source": [
        "<a href=\"https://colab.research.google.com/github/Jung0Jin/Codingdojang/blob/master/20200416%ED%8C%8C%EC%9D%B4%EC%8D%AC%EC%BD%94%EB%94%A9%EB%8F%84%EC%9E%A5.ipynb\" target=\"_parent\"><img src=\"https://colab.research.google.com/assets/colab-badge.svg\" alt=\"Open In Colab\"/></a>"
      ]
    },
    {
      "cell_type": "markdown",
      "metadata": {
        "id": "z2sVdkKBISX8",
        "colab_type": "text"
      },
      "source": [
        "# Even Fibonacci numbers\n"
      ]
    },
    {
      "cell_type": "markdown",
      "metadata": {
        "id": "Q_BGbqITISX9",
        "colab_type": "text"
      },
      "source": [
        "문제 : http://codingdojang.com/scode/548?answer_mode=hide"
      ]
    },
    {
      "cell_type": "markdown",
      "metadata": {
        "id": "-QvUYWIJISX9",
        "colab_type": "text"
      },
      "source": [
        "## 풀이"
      ]
    },
    {
      "cell_type": "code",
      "metadata": {
        "id": "BuUgM68gqHab",
        "colab_type": "code",
        "colab": {
          "base_uri": "https://localhost:8080/",
          "height": 35
        },
        "outputId": "73243946-aca1-4d20-9aeb-5e4e56f70068"
      },
      "source": [
        "# 예강효빠 님\n",
        "\n",
        "def fibonacci_even_sum(n):\n",
        "  f, f_even_sum = [0,1], 0\n",
        "  while f[-2]+f[-1] < n:\n",
        "    if (f[-2]+f[-1]) % 2 ==0:\n",
        "      f_even_sum += f[-2]+f[-1]\n",
        "    f.append(f[-2]+f[-1])\n",
        "  return f_even_sum\n",
        "\n",
        "fibonacci_even_sum(4000000)"
      ],
      "execution_count": 33,
      "outputs": [
        {
          "output_type": "execute_result",
          "data": {
            "text/plain": [
              "4613732"
            ]
          },
          "metadata": {
            "tags": []
          },
          "execution_count": 33
        }
      ]
    },
    {
      "cell_type": "code",
      "metadata": {
        "id": "WYOgPh6MqxLp",
        "colab_type": "code",
        "colab": {}
      },
      "source": [
        ""
      ],
      "execution_count": 0,
      "outputs": []
    }
  ]
}