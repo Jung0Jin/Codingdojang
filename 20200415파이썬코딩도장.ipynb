{
  "nbformat": 4,
  "nbformat_minor": 0,
  "metadata": {
    "hide_input": false,
    "kernelspec": {
      "display_name": "Python 3",
      "language": "python",
      "name": "python3"
    },
    "language_info": {
      "codemirror_mode": {
        "name": "ipython",
        "version": 3
      },
      "file_extension": ".py",
      "mimetype": "text/x-python",
      "name": "python",
      "nbconvert_exporter": "python",
      "pygments_lexer": "ipython3",
      "version": "3.7.6"
    },
    "toc": {
      "base_numbering": 1,
      "nav_menu": {},
      "number_sections": false,
      "sideBar": true,
      "skip_h1_title": false,
      "title_cell": "",
      "title_sidebar": "Contents",
      "toc_cell": true,
      "toc_position": {
        "height": "calc(100% - 180px)",
        "left": "10px",
        "top": "150px",
        "width": "165px"
      },
      "toc_section_display": true,
      "toc_window_display": true
    },
    "varInspector": {
      "cols": {
        "lenName": 16,
        "lenType": 16,
        "lenVar": 40
      },
      "kernels_config": {
        "python": {
          "delete_cmd_postfix": "",
          "delete_cmd_prefix": "del ",
          "library": "var_list.py",
          "varRefreshCmd": "print(var_dic_list())"
        },
        "r": {
          "delete_cmd_postfix": ") ",
          "delete_cmd_prefix": "rm(",
          "library": "var_list.r",
          "varRefreshCmd": "cat(var_dic_list()) "
        }
      },
      "types_to_exclude": [
        "module",
        "function",
        "builtin_function_or_method",
        "instance",
        "_Feature"
      ],
      "window_display": false
    },
    "colab": {
      "name": "20200415파이썬코딩도장",
      "provenance": [],
      "collapsed_sections": [],
      "toc_visible": true,
      "include_colab_link": true
    }
  },
  "cells": [
    {
      "cell_type": "markdown",
      "metadata": {
        "id": "view-in-github",
        "colab_type": "text"
      },
      "source": [
        "<a href=\"https://colab.research.google.com/github/Jung0Jin/Codingdojang/blob/master/20200415%ED%8C%8C%EC%9D%B4%EC%8D%AC%EC%BD%94%EB%94%A9%EB%8F%84%EC%9E%A5.ipynb\" target=\"_parent\"><img src=\"https://colab.research.google.com/assets/colab-badge.svg\" alt=\"Open In Colab\"/></a>"
      ]
    },
    {
      "cell_type": "markdown",
      "metadata": {
        "id": "z2sVdkKBISX8",
        "colab_type": "text"
      },
      "source": [
        "# Special Pythagorean triplet\n"
      ]
    },
    {
      "cell_type": "markdown",
      "metadata": {
        "id": "Q_BGbqITISX9",
        "colab_type": "text"
      },
      "source": [
        "문제 : http://codingdojang.com/scode/545?answer_mode=hide"
      ]
    },
    {
      "cell_type": "markdown",
      "metadata": {
        "id": "-QvUYWIJISX9",
        "colab_type": "text"
      },
      "source": [
        "## 풀이"
      ]
    },
    {
      "cell_type": "code",
      "metadata": {
        "id": "ptrd7SW7S1ZF",
        "colab_type": "code",
        "colab": {
          "base_uri": "https://localhost:8080/",
          "height": 53
        },
        "outputId": "9be80666-af2f-4d02-f069-75c31f45f3f6"
      },
      "source": [
        "import math\n",
        "\n",
        "def is_int(x):\n",
        "  if int(x)==x:\n",
        "    return True\n",
        "  else:\n",
        "    return False\n",
        "\n",
        "# a+b+c = 1000 이고 a+b>c (삼각형) 이므로  c < 500\n",
        "\n",
        "num = 500\n",
        "for a in range(1, num+1):\n",
        "  for b in range(a+1, num+1):\n",
        "    c=math.sqrt(a**2 + b**2)\n",
        "    if is_int(c):\n",
        "      # print(f'a : {a}')\n",
        "      # print(f'b : {b}')\n",
        "      # print(f'c : {c}')\n",
        "      if a+b+c == 1000:\n",
        "        print(f'find : {a, b, c}')\n",
        "        print(f'a x b x c : {a*b*c}')"
      ],
      "execution_count": 34,
      "outputs": [
        {
          "output_type": "stream",
          "text": [
            "find : (200, 375, 425.0)\n",
            "a x b x c : 31875000.0\n"
          ],
          "name": "stdout"
        }
      ]
    },
    {
      "cell_type": "code",
      "metadata": {
        "id": "zT8fLMwhVx9z",
        "colab_type": "code",
        "colab": {
          "base_uri": "https://localhost:8080/",
          "height": 35
        },
        "outputId": "9b1ca28f-8f47-4973-dcfb-d277fb8d8f21"
      },
      "source": [
        "# 예강효빠 님\n",
        "\n",
        "import numpy as np\n",
        "\n",
        "a_b = [i for i in range(1,500) if (i**2 / (1000-i)) % 1 == 0] # [200, 375]\n",
        "print(np.prod(a_b) * (1000-sum(a_b))) # 200 * 375 * 425"
      ],
      "execution_count": 35,
      "outputs": [
        {
          "output_type": "stream",
          "text": [
            "31875000\n"
          ],
          "name": "stdout"
        }
      ]
    },
    {
      "cell_type": "code",
      "metadata": {
        "id": "wFaq7QazWAqQ",
        "colab_type": "code",
        "colab": {
          "base_uri": "https://localhost:8080/",
          "height": 35
        },
        "outputId": "53e6a61b-66cf-45b2-d554-0b22c27a75c2"
      },
      "source": [
        "# onest7 님\n",
        "\n",
        "for a in range(1,500):\n",
        "  for b in range(a,500):\n",
        "    for c in range(b,500):\n",
        "      if a*a+b*b==c*c:\n",
        "        if a+b+c==1000:\n",
        "          print(a*b*c)"
      ],
      "execution_count": 38,
      "outputs": [
        {
          "output_type": "stream",
          "text": [
            "31875000\n"
          ],
          "name": "stdout"
        }
      ]
    },
    {
      "cell_type": "code",
      "metadata": {
        "id": "Mf7eN58DV2Ky",
        "colab_type": "code",
        "colab": {
          "base_uri": "https://localhost:8080/",
          "height": 35
        },
        "outputId": "ed6f4840-b529-4135-9af4-4ef68e45950f"
      },
      "source": [
        "# arloe 님\n",
        "\n",
        "for a in range(1, 1000):\n",
        "    for b in range(1, 1000 - a):\n",
        "        c = 1000 - (a + b)\n",
        "        if (a**2 + b**2 == c**2) & (a < b < c):\n",
        "            print(a, b, c)\n"
      ],
      "execution_count": 40,
      "outputs": [
        {
          "output_type": "stream",
          "text": [
            "200 375 425\n"
          ],
          "name": "stdout"
        }
      ]
    },
    {
      "cell_type": "code",
      "metadata": {
        "id": "qLshSrhWWd28",
        "colab_type": "code",
        "colab": {}
      },
      "source": [
        ""
      ],
      "execution_count": 0,
      "outputs": []
    }
  ]
}