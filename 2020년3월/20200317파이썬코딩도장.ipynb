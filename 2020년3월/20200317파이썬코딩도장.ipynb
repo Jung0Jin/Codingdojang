{
 "cells": [
  {
   "cell_type": "markdown",
   "metadata": {
    "toc": true
   },
   "source": [
    "<h1><span class=\"tocSkip\"></span></h1>\n",
    "<div class=\"toc\"><ul class=\"toc-item\"><li><span><a href=\"#탭을-공백-문자로-바꾸기\" data-toc-modified-id=\"탭을-공백-문자로-바꾸기-1\">탭을 공백 문자로 바꾸기</a></span></li><li><span><a href=\"#내-풀이\" data-toc-modified-id=\"내-풀이-2\">내 풀이</a></span></li><li><span><a href=\"#풀이-1\" data-toc-modified-id=\"풀이-1-3\">풀이 1</a></span></li><li><span><a href=\"#풀이-2\" data-toc-modified-id=\"풀이-2-4\">풀이 2</a></span></li><li><span><a href=\"#풀이-3\" data-toc-modified-id=\"풀이-3-5\">풀이 3</a></span></li><li><span><a href=\"#게시판-페이징\" data-toc-modified-id=\"게시판-페이징-6\">게시판 페이징</a></span></li><li><span><a href=\"#내-풀이\" data-toc-modified-id=\"내-풀이-7\">내 풀이</a></span></li><li><span><a href=\"#풀이-1\" data-toc-modified-id=\"풀이-1-8\">풀이 1</a></span></li><li><span><a href=\"#풀이-2\" data-toc-modified-id=\"풀이-2-9\">풀이 2</a></span></li></ul></div>"
   ]
  },
  {
   "cell_type": "markdown",
   "metadata": {},
   "source": [
    "# 탭을 공백 문자로 바꾸기"
   ]
  },
  {
   "cell_type": "markdown",
   "metadata": {},
   "source": [
    "문제 : http://codingdojang.com/scode/405?answer_mode=hide"
   ]
  },
  {
   "cell_type": "markdown",
   "metadata": {},
   "source": [
    "# 내 풀이"
   ]
  },
  {
   "cell_type": "markdown",
   "metadata": {},
   "source": [
    "솔직히 문제를 이해하지를 못했다;;\n",
    "\n",
    "replace(\"\\t\",\"    \")\n",
    "\n",
    "이거 아닌가?"
   ]
  },
  {
   "cell_type": "markdown",
   "metadata": {},
   "source": [
    "# 풀이 1"
   ]
  },
  {
   "cell_type": "code",
   "execution_count": null,
   "metadata": {
    "ExecuteTime": {
     "start_time": "2020-03-17T02:31:53.458Z"
    }
   },
   "outputs": [],
   "source": [
    "filename = input(\"Enter your file name : \")\n",
    "tempfile = open(filename)\n",
    "tempfile = tempfile.read()\n",
    "temp_str = tempfile.replace(\"\\t\",\"    \")\n",
    "tempfile = open(filename,'w')\n",
    "tempfile.write(temp_str)\n",
    "tempfile.close()"
   ]
  },
  {
   "cell_type": "markdown",
   "metadata": {},
   "source": [
    "# 풀이 2"
   ]
  },
  {
   "cell_type": "code",
   "execution_count": 1,
   "metadata": {
    "ExecuteTime": {
     "end_time": "2020-03-17T02:35:54.902891Z",
     "start_time": "2020-03-17T02:35:54.894917Z"
    }
   },
   "outputs": [],
   "source": [
    "def tab_to_space(text):\n",
    "    return text.replace(\"\\t\",\"    \")"
   ]
  },
  {
   "cell_type": "markdown",
   "metadata": {},
   "source": [
    "# 풀이 3"
   ]
  },
  {
   "cell_type": "code",
   "execution_count": 2,
   "metadata": {
    "ExecuteTime": {
     "end_time": "2020-03-17T02:36:50.667715Z",
     "start_time": "2020-03-17T02:36:50.654765Z"
    },
    "scrolled": true
   },
   "outputs": [
    {
     "ename": "FileNotFoundError",
     "evalue": "[Errno 2] No such file or directory: './aaa.txt'",
     "output_type": "error",
     "traceback": [
      "\u001b[1;31m---------------------------------------------------------------------------\u001b[0m",
      "\u001b[1;31mFileNotFoundError\u001b[0m                         Traceback (most recent call last)",
      "\u001b[1;32m<ipython-input-2-b6dab4e93dd6>\u001b[0m in \u001b[0;36m<module>\u001b[1;34m\u001b[0m\n\u001b[1;32m----> 1\u001b[1;33m \u001b[0mf\u001b[0m \u001b[1;33m=\u001b[0m \u001b[0mopen\u001b[0m\u001b[1;33m(\u001b[0m\u001b[1;34m'./aaa.txt'\u001b[0m\u001b[1;33m,\u001b[0m\u001b[1;34m'r'\u001b[0m\u001b[1;33m)\u001b[0m \u001b[1;31m# 소스코드가 aaa 파일에 있다고 가정\u001b[0m\u001b[1;33m\u001b[0m\u001b[0m\n\u001b[0m\u001b[0;32m      2\u001b[0m \u001b[0mlines\u001b[0m \u001b[1;33m=\u001b[0m \u001b[0mf\u001b[0m\u001b[1;33m.\u001b[0m\u001b[0mreadlines\u001b[0m\u001b[1;33m(\u001b[0m\u001b[1;33m)\u001b[0m\u001b[1;33m\u001b[0m\u001b[0m\n\u001b[0;32m      3\u001b[0m \u001b[0mf\u001b[0m\u001b[1;33m.\u001b[0m\u001b[0mclose\u001b[0m\u001b[1;33m(\u001b[0m\u001b[1;33m)\u001b[0m\u001b[1;33m\u001b[0m\u001b[0m\n\u001b[0;32m      4\u001b[0m \u001b[1;33m\u001b[0m\u001b[0m\n\u001b[0;32m      5\u001b[0m \u001b[0mf\u001b[0m \u001b[1;33m=\u001b[0m \u001b[0mopen\u001b[0m\u001b[1;33m(\u001b[0m\u001b[1;34m'./bbb.txt'\u001b[0m\u001b[1;33m,\u001b[0m\u001b[1;34m'w'\u001b[0m\u001b[1;33m)\u001b[0m \u001b[1;31m# 수정할 코드를 bbb 파일에 저장\u001b[0m\u001b[1;33m\u001b[0m\u001b[0m\n",
      "\u001b[1;31mFileNotFoundError\u001b[0m: [Errno 2] No such file or directory: './aaa.txt'"
     ]
    }
   ],
   "source": [
    "f = open('./aaa.txt','r') # 소스코드가 aaa 파일에 있다고 가정\n",
    "lines = f.readlines()\n",
    "f.close()\n",
    "\n",
    "f = open('./bbb.txt','w') # 수정할 코드를 bbb 파일에 저장\n",
    "for line in lines:\n",
    "    f.write(line.replace('\\t','    '))\n",
    "f.close()"
   ]
  },
  {
   "cell_type": "markdown",
   "metadata": {},
   "source": [
    "# 게시판 페이징"
   ]
  },
  {
   "cell_type": "markdown",
   "metadata": {},
   "source": [
    "문제 : http://codingdojang.com/scode/406?answer_mode=hide"
   ]
  },
  {
   "cell_type": "markdown",
   "metadata": {},
   "source": [
    "# 내 풀이"
   ]
  },
  {
   "cell_type": "code",
   "execution_count": 24,
   "metadata": {
    "ExecuteTime": {
     "end_time": "2020-03-17T03:04:54.162389Z",
     "start_time": "2020-03-17T03:04:54.156419Z"
    },
    "scrolled": true
   },
   "outputs": [],
   "source": [
    "def board(m, n):\n",
    "    if n<1:\n",
    "        print('n은 1보다 크거나 같아야 합니다.')\n",
    "    if m==0:\n",
    "        return 0\n",
    "    if m <= n:\n",
    "        return 1\n",
    "    else:\n",
    "        if m%n==0:\n",
    "            return m//n\n",
    "        a=m//n\n",
    "    return a+1"
   ]
  },
  {
   "cell_type": "markdown",
   "metadata": {},
   "source": [
    "# 풀이 1"
   ]
  },
  {
   "cell_type": "code",
   "execution_count": 57,
   "metadata": {
    "ExecuteTime": {
     "end_time": "2020-03-17T03:11:45.261822Z",
     "start_time": "2020-03-17T03:11:42.617658Z"
    }
   },
   "outputs": [
    {
     "name": "stdout",
     "output_type": "stream",
     "text": [
      "총건수(m): 30\n",
      "한페이지에 보여줄 게시물수(n): 9\n",
      "4\n"
     ]
    }
   ],
   "source": [
    "import math\n",
    "\n",
    "m=int(input('총건수(m): '))\n",
    "n=int(input('한페이지에 보여줄 게시물수(n): '))\n",
    "\n",
    "print(math.ceil(m/n))"
   ]
  },
  {
   "cell_type": "markdown",
   "metadata": {},
   "source": [
    "# 풀이 2"
   ]
  },
  {
   "cell_type": "code",
   "execution_count": 58,
   "metadata": {
    "ExecuteTime": {
     "end_time": "2020-03-17T03:13:44.720438Z",
     "start_time": "2020-03-17T03:13:44.715481Z"
    }
   },
   "outputs": [],
   "source": [
    "def board(m,n):\n",
    "    page = m//n\n",
    "    if m%n != 0:\n",
    "        page += 1\n",
    "    print(page)"
   ]
  }
 ],
 "metadata": {
  "hide_input": false,
  "kernelspec": {
   "display_name": "Python 3",
   "language": "python",
   "name": "python3"
  },
  "toc": {
   "base_numbering": 1,
   "nav_menu": {},
   "number_sections": false,
   "sideBar": true,
   "skip_h1_title": false,
   "title_cell": "",
   "title_sidebar": "Contents",
   "toc_cell": true,
   "toc_position": {
    "height": "calc(100% - 180px)",
    "left": "10px",
    "top": "150px",
    "width": "165px"
   },
   "toc_section_display": true,
   "toc_window_display": true
  },
  "varInspector": {
   "cols": {
    "lenName": 16,
    "lenType": 16,
    "lenVar": 40
   },
   "kernels_config": {
    "python": {
     "delete_cmd_postfix": "",
     "delete_cmd_prefix": "del ",
     "library": "var_list.py",
     "varRefreshCmd": "print(var_dic_list())"
    },
    "r": {
     "delete_cmd_postfix": ") ",
     "delete_cmd_prefix": "rm(",
     "library": "var_list.r",
     "varRefreshCmd": "cat(var_dic_list()) "
    }
   },
   "types_to_exclude": [
    "module",
    "function",
    "builtin_function_or_method",
    "instance",
    "_Feature"
   ],
   "window_display": false
  }
 },
 "nbformat": 4,
 "nbformat_minor": 2
}
