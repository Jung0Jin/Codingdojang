{
 "cells": [
  {
   "cell_type": "markdown",
   "metadata": {
    "toc": true
   },
   "source": [
    "<h1><span class=\"tocSkip\"></span></h1>\n",
    "<div class=\"toc\"><ul class=\"toc-item\"><li><span><a href=\"#The-Knights-Of-The-Round-Table\" data-toc-modified-id=\"The-Knights-Of-The-Round-Table-1\">The Knights Of The Round Table</a></span></li><li><span><a href=\"#내-풀이\" data-toc-modified-id=\"내-풀이-2\">내 풀이</a></span></li><li><span><a href=\"#풀이-1\" data-toc-modified-id=\"풀이-1-3\">풀이 1</a></span></li><li><span><a href=\"#Special-Sort\" data-toc-modified-id=\"Special-Sort-4\">Special Sort</a></span></li><li><span><a href=\"#내-풀이\" data-toc-modified-id=\"내-풀이-5\">내 풀이</a></span></li><li><span><a href=\"#풀이-1\" data-toc-modified-id=\"풀이-1-6\">풀이 1</a></span></li></ul></div>"
   ]
  },
  {
   "cell_type": "markdown",
   "metadata": {},
   "source": [
    "# The Knights Of The Round Table"
   ]
  },
  {
   "cell_type": "markdown",
   "metadata": {},
   "source": [
    "문제 : http://codingdojang.com/scode/442?answer_mode=hide"
   ]
  },
  {
   "cell_type": "markdown",
   "metadata": {},
   "source": [
    "# 내 풀이"
   ]
  },
  {
   "cell_type": "code",
   "execution_count": 20,
   "metadata": {
    "ExecuteTime": {
     "end_time": "2020-03-19T01:55:46.286556Z",
     "start_time": "2020-03-19T01:55:46.278551Z"
    }
   },
   "outputs": [],
   "source": [
    "def tablesize():\n",
    "    a=float(input(\"a를 입력하세요:\"))\n",
    "    b=float(input(\"b를 입력하세요:\"))\n",
    "    c=float(input(\"c를 입력하세요:\"))\n",
    "    if a>1000000 or b>1000000 or c>1000000 or max(a,b,c)>(a+b+c)/2:\n",
    "        return '조건은 a<=1000000 or b<=1000000 or c<=1000000 or max(a,b,c)<=(a+b+c)/2 입니다.'\n",
    "    temp=[]\n",
    "    temp.append(a)\n",
    "    temp.append(b)\n",
    "    temp.append(c)\n",
    "    temp.remove(max(a,b,c))\n",
    "    Hypotenuse=max(a,b,c) # 빗변\n",
    "    r=round((temp[0]+temp[1]-Hypotenuse)/2, 3)\n",
    "    print(f'The radius of the round table is: {r}')"
   ]
  },
  {
   "cell_type": "code",
   "execution_count": 21,
   "metadata": {
    "ExecuteTime": {
     "end_time": "2020-03-19T01:56:08.465403Z",
     "start_time": "2020-03-19T01:56:03.710405Z"
    },
    "scrolled": true
   },
   "outputs": [
    {
     "name": "stdout",
     "output_type": "stream",
     "text": [
      "a를 입력하세요:12.0\n",
      "b를 입력하세요:12.0\n",
      "c를 입력하세요:8.0\n",
      "The radius of the round table is: 4.0\n"
     ]
    }
   ],
   "source": [
    "tablesize()"
   ]
  },
  {
   "cell_type": "markdown",
   "metadata": {},
   "source": [
    "잘 풀었다고 생각했는데 다른 사람들 풀이를 보니 문제를 제대로 이해하지 못한 것 같다..."
   ]
  },
  {
   "cell_type": "markdown",
   "metadata": {},
   "source": [
    "# 풀이 1"
   ]
  },
  {
   "cell_type": "code",
   "execution_count": 32,
   "metadata": {
    "ExecuteTime": {
     "end_time": "2020-03-18T03:35:57.591031Z",
     "start_time": "2020-03-18T03:35:57.584057Z"
    },
    "scrolled": false
   },
   "outputs": [
    {
     "name": "stdout",
     "output_type": "stream",
     "text": [
      "김씨:2, 이씨:6\n",
      "3\n",
      "['전경헌', '김지완', '최승혁', '박민호', '권종표', '이재영', '강상희', '박영서', '김재성', '송정환', '이유덕', '이성연']\n",
      "['강상희', '권종표', '김재성', '김지완', '박민호', '박영서', '송정환', '이성연', '이유덕', '이재영', '전경헌', '최승혁']\n"
     ]
    }
   ],
   "source": [
    "import math\n",
    "\n",
    "while True:\n",
    "    num = input()\n",
    "    if len(num.split()) !=3:\n",
    "        break\n",
    "    a,b,c = map(float, num.split())\n",
    "    s = (a+b+c)/2\n",
    "    heron = sqrt(s*(s-a)*(s-b)*(s-c))\n",
    "    r = round((heron/s),3)\n",
    "    print(f'The radius of the round table is: {r}')"
   ]
  }
 ],
 "metadata": {
  "hide_input": false,
  "kernelspec": {
   "display_name": "Python 3",
   "language": "python",
   "name": "python3"
  },
  "toc": {
   "base_numbering": 1,
   "nav_menu": {},
   "number_sections": false,
   "sideBar": true,
   "skip_h1_title": false,
   "title_cell": "",
   "title_sidebar": "Contents",
   "toc_cell": true,
   "toc_position": {
    "height": "calc(100% - 180px)",
    "left": "10px",
    "top": "150px",
    "width": "165px"
   },
   "toc_section_display": true,
   "toc_window_display": true
  },
  "varInspector": {
   "cols": {
    "lenName": 16,
    "lenType": 16,
    "lenVar": 40
   },
   "kernels_config": {
    "python": {
     "delete_cmd_postfix": "",
     "delete_cmd_prefix": "del ",
     "library": "var_list.py",
     "varRefreshCmd": "print(var_dic_list())"
    },
    "r": {
     "delete_cmd_postfix": ") ",
     "delete_cmd_prefix": "rm(",
     "library": "var_list.r",
     "varRefreshCmd": "cat(var_dic_list()) "
    }
   },
   "types_to_exclude": [
    "module",
    "function",
    "builtin_function_or_method",
    "instance",
    "_Feature"
   ],
   "window_display": false
  }
 },
 "nbformat": 4,
 "nbformat_minor": 2
}
