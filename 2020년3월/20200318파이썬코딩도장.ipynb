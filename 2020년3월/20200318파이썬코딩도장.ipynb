{
 "cells": [
  {
   "cell_type": "markdown",
   "metadata": {
    "toc": true
   },
   "source": [
    "<h1><span class=\"tocSkip\"></span></h1>\n",
    "<div class=\"toc\"><ul class=\"toc-item\"><li><span><a href=\"#사이냅소프트-면접문제\" data-toc-modified-id=\"사이냅소프트-면접문제-1\">사이냅소프트 면접문제</a></span></li><li><span><a href=\"#내-풀이\" data-toc-modified-id=\"내-풀이-2\">내 풀이</a></span></li><li><span><a href=\"#풀이-1\" data-toc-modified-id=\"풀이-1-3\">풀이 1</a></span></li><li><span><a href=\"#Special-Sort\" data-toc-modified-id=\"Special-Sort-4\">Special Sort</a></span></li><li><span><a href=\"#내-풀이\" data-toc-modified-id=\"내-풀이-5\">내 풀이</a></span></li><li><span><a href=\"#풀이-1\" data-toc-modified-id=\"풀이-1-6\">풀이 1</a></span></li><li><span><a href=\"#풀이-2\" data-toc-modified-id=\"풀이-2-7\">풀이 2</a></span></li></ul></div>"
   ]
  },
  {
   "cell_type": "markdown",
   "metadata": {},
   "source": [
    "# 사이냅소프트 면접문제"
   ]
  },
  {
   "cell_type": "markdown",
   "metadata": {},
   "source": [
    "문제 : http://codingdojang.com/scode/410?answer_mode=hide"
   ]
  },
  {
   "cell_type": "markdown",
   "metadata": {},
   "source": [
    "# 내 풀이"
   ]
  },
  {
   "cell_type": "code",
   "execution_count": 13,
   "metadata": {
    "ExecuteTime": {
     "end_time": "2020-03-18T03:23:02.805573Z",
     "start_time": "2020-03-18T03:23:02.801584Z"
    }
   },
   "outputs": [],
   "source": [
    "lst=\"이유덕,이재영,권종표,이재영,박민호,강상희,이재영,김지완,최승혁,이성연,박영서,박민호,전경헌,송정환,김재성,이유덕,전경헌\""
   ]
  },
  {
   "cell_type": "code",
   "execution_count": 14,
   "metadata": {
    "ExecuteTime": {
     "end_time": "2020-03-18T03:23:03.429874Z",
     "start_time": "2020-03-18T03:23:03.423889Z"
    }
   },
   "outputs": [
    {
     "name": "stdout",
     "output_type": "stream",
     "text": [
      "김씨의 수:2,\n",
      "이씨의 수:6\n"
     ]
    }
   ],
   "source": [
    "#1\n",
    "temp1=0\n",
    "temp2=0\n",
    "\n",
    "for i in lst.split(','):\n",
    "    if i[0]=='김':\n",
    "        temp1+=1\n",
    "    if i[0]=='이':\n",
    "        temp2+=1\n",
    "print(f\"김씨의 수:{temp1},\\n이씨의 수:{temp2}\")"
   ]
  },
  {
   "cell_type": "code",
   "execution_count": 15,
   "metadata": {
    "ExecuteTime": {
     "end_time": "2020-03-18T03:23:13.390237Z",
     "start_time": "2020-03-18T03:23:13.384288Z"
    }
   },
   "outputs": [
    {
     "name": "stdout",
     "output_type": "stream",
     "text": [
      "이재영은 3 번 반복됩니다.\n"
     ]
    }
   ],
   "source": [
    "#2\n",
    "temp=0\n",
    "for i in lst.split(','):\n",
    "    if i=='이재영':\n",
    "        temp+=1\n",
    "print(f'이재영은 {temp} 번 반복됩니다.')"
   ]
  },
  {
   "cell_type": "code",
   "execution_count": 16,
   "metadata": {
    "ExecuteTime": {
     "end_time": "2020-03-18T03:23:15.005940Z",
     "start_time": "2020-03-18T03:23:15.000946Z"
    },
    "scrolled": true
   },
   "outputs": [
    {
     "data": {
      "text/plain": [
       "3"
      ]
     },
     "execution_count": 16,
     "metadata": {},
     "output_type": "execute_result"
    }
   ],
   "source": [
    "#2\n",
    "lst.count('이재영')"
   ]
  },
  {
   "cell_type": "code",
   "execution_count": 25,
   "metadata": {
    "ExecuteTime": {
     "end_time": "2020-03-18T03:26:29.222510Z",
     "start_time": "2020-03-18T03:26:29.216554Z"
    },
    "scrolled": true
   },
   "outputs": [
    {
     "data": {
      "text/plain": [
       "{'강상희',\n",
       " '권종표',\n",
       " '김재성',\n",
       " '김지완',\n",
       " '박민호',\n",
       " '박영서',\n",
       " '송정환',\n",
       " '이성연',\n",
       " '이유덕',\n",
       " '이재영',\n",
       " '전경헌',\n",
       " '최승혁'}"
      ]
     },
     "execution_count": 25,
     "metadata": {},
     "output_type": "execute_result"
    }
   ],
   "source": [
    "#3\n",
    "set1 = set(lst.split(','))\n",
    "set1"
   ]
  },
  {
   "cell_type": "code",
   "execution_count": 29,
   "metadata": {
    "ExecuteTime": {
     "end_time": "2020-03-18T03:27:12.093855Z",
     "start_time": "2020-03-18T03:27:12.087893Z"
    }
   },
   "outputs": [
    {
     "data": {
      "text/plain": [
       "[{'강상희',\n",
       "  '권종표',\n",
       "  '김재성',\n",
       "  '김지완',\n",
       "  '박민호',\n",
       "  '박영서',\n",
       "  '송정환',\n",
       "  '이성연',\n",
       "  '이유덕',\n",
       "  '이재영',\n",
       "  '전경헌',\n",
       "  '최승혁'}]"
      ]
     },
     "execution_count": 29,
     "metadata": {},
     "output_type": "execute_result"
    }
   ],
   "source": [
    "#4\n",
    "lst=[set1]\n",
    "lst.sort()\n",
    "lst"
   ]
  },
  {
   "cell_type": "markdown",
   "metadata": {},
   "source": [
    "# 풀이 1"
   ]
  },
  {
   "cell_type": "code",
   "execution_count": 32,
   "metadata": {
    "ExecuteTime": {
     "end_time": "2020-03-18T03:35:57.591031Z",
     "start_time": "2020-03-18T03:35:57.584057Z"
    },
    "scrolled": true
   },
   "outputs": [
    {
     "name": "stdout",
     "output_type": "stream",
     "text": [
      "김씨:2, 이씨:6\n",
      "3\n",
      "['전경헌', '김지완', '최승혁', '박민호', '권종표', '이재영', '강상희', '박영서', '김재성', '송정환', '이유덕', '이성연']\n",
      "['강상희', '권종표', '김재성', '김지완', '박민호', '박영서', '송정환', '이성연', '이유덕', '이재영', '전경헌', '최승혁']\n"
     ]
    }
   ],
   "source": [
    "names = \"이유덕,이재영,권종표,이재영,박민호,강상희,이재영,김지완,최승혁,이성연,박영서,박민호,전경헌,송정환,김재성,이유덕,전경헌\".split(',')\n",
    "\n",
    "#1\n",
    "a=[i[0] for i in names]\n",
    "Kim=a.count('김')\n",
    "Lee=a.count('이')\n",
    "print(f'김씨:{Kim}, 이씨:{Lee}')\n",
    "\n",
    "#2\n",
    "print(names.count('이재영'))\n",
    "\n",
    "#3\n",
    "uniq_names = list(set(names))\n",
    "print(uniq_names)\n",
    "\n",
    "#4\n",
    "uniq_names.sort()\n",
    "print(uniq_names)"
   ]
  },
  {
   "cell_type": "markdown",
   "metadata": {},
   "source": [
    "# Special Sort"
   ]
  },
  {
   "cell_type": "markdown",
   "metadata": {},
   "source": [
    "문제 : http://codingdojang.com/scode/414?answer_mode=hide"
   ]
  },
  {
   "cell_type": "markdown",
   "metadata": {},
   "source": [
    "# 내 풀이"
   ]
  },
  {
   "cell_type": "code",
   "execution_count": 36,
   "metadata": {
    "ExecuteTime": {
     "end_time": "2020-03-18T03:40:16.622833Z",
     "start_time": "2020-03-18T03:40:16.616877Z"
    },
    "scrolled": true
   },
   "outputs": [
    {
     "name": "stdout",
     "output_type": "stream",
     "text": [
      "[-1, -2, 1, 3, 2]\n"
     ]
    }
   ],
   "source": [
    "num = [-1,1,3,-2,2]\n",
    "a=[]\n",
    "b=[]\n",
    "for i in num:\n",
    "    if i<0:\n",
    "        a.append(i)\n",
    "    if i>0:\n",
    "        b.append(i)\n",
    "    c=a+b\n",
    "print(c)"
   ]
  },
  {
   "cell_type": "markdown",
   "metadata": {},
   "source": [
    "# 풀이 1"
   ]
  },
  {
   "cell_type": "code",
   "execution_count": 37,
   "metadata": {
    "ExecuteTime": {
     "end_time": "2020-03-18T03:42:14.967337Z",
     "start_time": "2020-03-18T03:42:14.960357Z"
    }
   },
   "outputs": [
    {
     "data": {
      "text/plain": [
       "[-1, -2, 1, 3, 2]"
      ]
     },
     "execution_count": 37,
     "metadata": {},
     "output_type": "execute_result"
    }
   ],
   "source": [
    "def do(alist):\n",
    "    return [x for x in alist if x<0] + [x for x in alist if x>=0]\n",
    "do([-1,1,3,-2,2])"
   ]
  }
 ],
 "metadata": {
  "hide_input": false,
  "kernelspec": {
   "display_name": "Python 3",
   "language": "python",
   "name": "python3"
  },
  "language_info": {
   "codemirror_mode": {
    "name": "ipython",
    "version": 3
   },
   "file_extension": ".py",
   "mimetype": "text/x-python",
   "name": "python",
   "nbconvert_exporter": "python",
   "pygments_lexer": "ipython3",
   "version": "3.7.6"
  },
  "toc": {
   "base_numbering": 1,
   "nav_menu": {},
   "number_sections": false,
   "sideBar": true,
   "skip_h1_title": false,
   "title_cell": "",
   "title_sidebar": "Contents",
   "toc_cell": true,
   "toc_position": {
    "height": "calc(100% - 180px)",
    "left": "10px",
    "top": "150px",
    "width": "165px"
   },
   "toc_section_display": true,
   "toc_window_display": true
  },
  "varInspector": {
   "cols": {
    "lenName": 16,
    "lenType": 16,
    "lenVar": 40
   },
   "kernels_config": {
    "python": {
     "delete_cmd_postfix": "",
     "delete_cmd_prefix": "del ",
     "library": "var_list.py",
     "varRefreshCmd": "print(var_dic_list())"
    },
    "r": {
     "delete_cmd_postfix": ") ",
     "delete_cmd_prefix": "rm(",
     "library": "var_list.r",
     "varRefreshCmd": "cat(var_dic_list()) "
    }
   },
   "types_to_exclude": [
    "module",
    "function",
    "builtin_function_or_method",
    "instance",
    "_Feature"
   ],
   "window_display": false
  }
 },
 "nbformat": 4,
 "nbformat_minor": 2
}
