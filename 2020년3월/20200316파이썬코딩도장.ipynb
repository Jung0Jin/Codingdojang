{
 "cells": [
  {
   "cell_type": "markdown",
   "metadata": {
    "toc": true
   },
   "source": [
    "<h1><span class=\"tocSkip\"></span></h1>\n",
    "<div class=\"toc\"><ul class=\"toc-item\"><li><span><a href=\"#Multiples-of-3-and-5\" data-toc-modified-id=\"Multiples-of-3-and-5-1\">Multiples of 3 and 5</a></span></li><li><span><a href=\"#내-풀이\" data-toc-modified-id=\"내-풀이-2\">내 풀이</a></span></li><li><span><a href=\"#풀이-1\" data-toc-modified-id=\"풀이-1-3\">풀이 1</a></span></li><li><span><a href=\"#풀이-2\" data-toc-modified-id=\"풀이-2-4\">풀이 2</a></span></li><li><span><a href=\"#풀이-3\" data-toc-modified-id=\"풀이-3-5\">풀이 3</a></span></li><li><span><a href=\"#Ugly-Numbers\" data-toc-modified-id=\"Ugly-Numbers-6\">Ugly Numbers</a></span></li><li><span><a href=\"#내-풀이\" data-toc-modified-id=\"내-풀이-7\">내 풀이</a></span></li><li><span><a href=\"#풀이-1\" data-toc-modified-id=\"풀이-1-8\">풀이 1</a></span></li></ul></div>"
   ]
  },
  {
   "cell_type": "markdown",
   "metadata": {},
   "source": [
    "# Multiples of 3 and 5"
   ]
  },
  {
   "cell_type": "markdown",
   "metadata": {},
   "source": [
    "문제 : http://codingdojang.com/scode/350?answer_mode=hide"
   ]
  },
  {
   "cell_type": "markdown",
   "metadata": {},
   "source": [
    "# 내 풀이"
   ]
  },
  {
   "cell_type": "code",
   "execution_count": 43,
   "metadata": {
    "ExecuteTime": {
     "end_time": "2020-03-16T04:37:09.479427Z",
     "start_time": "2020-03-16T04:37:09.474445Z"
    }
   },
   "outputs": [
    {
     "name": "stdout",
     "output_type": "stream",
     "text": [
      "[1, 2, 3, 4, 5, 6, 7, 8, 9]\n"
     ]
    }
   ],
   "source": [
    "a = []\n",
    "for i in range(10):\n",
    "    a.append(i)\n",
    "a.remove(0)\n",
    "print(a)"
   ]
  },
  {
   "cell_type": "code",
   "execution_count": 44,
   "metadata": {
    "ExecuteTime": {
     "end_time": "2020-03-16T04:37:11.649624Z",
     "start_time": "2020-03-16T04:37:11.641645Z"
    },
    "scrolled": true
   },
   "outputs": [
    {
     "name": "stdout",
     "output_type": "stream",
     "text": [
      "3\n",
      "5\n",
      "6\n",
      "9\n"
     ]
    },
    {
     "data": {
      "text/plain": [
       "23"
      ]
     },
     "execution_count": 44,
     "metadata": {},
     "output_type": "execute_result"
    }
   ],
   "source": [
    "b=[]\n",
    "for i in a:\n",
    "    if i%3==0 or i%5==0:\n",
    "        print(i)\n",
    "        b.append(i)\n",
    "sum(b)"
   ]
  },
  {
   "cell_type": "code",
   "execution_count": 45,
   "metadata": {
    "ExecuteTime": {
     "end_time": "2020-03-16T04:37:59.410935Z",
     "start_time": "2020-03-16T04:37:59.402932Z"
    }
   },
   "outputs": [
    {
     "data": {
      "text/plain": [
       "233168"
      ]
     },
     "execution_count": 45,
     "metadata": {},
     "output_type": "execute_result"
    }
   ],
   "source": [
    "a=[]\n",
    "for i in range(1000):\n",
    "    a.append(i)\n",
    "a.remove(0)\n",
    "b=[]\n",
    "for i in a:\n",
    "    if i%3==0 or i%5==0:\n",
    "        b.append(i)\n",
    "sum(b)"
   ]
  },
  {
   "cell_type": "markdown",
   "metadata": {},
   "source": [
    "# 풀이 1"
   ]
  },
  {
   "cell_type": "code",
   "execution_count": 49,
   "metadata": {
    "ExecuteTime": {
     "end_time": "2020-03-16T04:43:20.312450Z",
     "start_time": "2020-03-16T04:43:20.306478Z"
    },
    "scrolled": true
   },
   "outputs": [
    {
     "data": {
      "text/plain": [
       "233168"
      ]
     },
     "execution_count": 49,
     "metadata": {},
     "output_type": "execute_result"
    }
   ],
   "source": [
    "sum([x for x in range(1000) if x%3==0 or x%5==0])"
   ]
  },
  {
   "cell_type": "markdown",
   "metadata": {},
   "source": [
    "# 풀이 2"
   ]
  },
  {
   "cell_type": "code",
   "execution_count": 59,
   "metadata": {
    "ExecuteTime": {
     "end_time": "2020-03-16T04:54:26.720610Z",
     "start_time": "2020-03-16T04:54:26.713661Z"
    }
   },
   "outputs": [
    {
     "data": {
      "text/plain": [
       "233168"
      ]
     },
     "execution_count": 59,
     "metadata": {},
     "output_type": "execute_result"
    }
   ],
   "source": [
    "set3 = set(range(3, 1000, 3))\n",
    "set5 = set(range(5, 1000, 5))\n",
    "sum(list(set3|set5))"
   ]
  },
  {
   "cell_type": "markdown",
   "metadata": {},
   "source": [
    "# 풀이 3"
   ]
  },
  {
   "cell_type": "code",
   "execution_count": 61,
   "metadata": {
    "ExecuteTime": {
     "end_time": "2020-03-16T04:55:21.984834Z",
     "start_time": "2020-03-16T04:55:21.977854Z"
    },
    "scrolled": true
   },
   "outputs": [
    {
     "data": {
      "text/plain": [
       "233168"
      ]
     },
     "execution_count": 61,
     "metadata": {},
     "output_type": "execute_result"
    }
   ],
   "source": [
    "sum = 0\n",
    "for num in range(1000):\n",
    "    if num % 3 == 0 or num % 5 == 0:\n",
    "        sum += num\n",
    "sum"
   ]
  },
  {
   "cell_type": "markdown",
   "metadata": {},
   "source": [
    "# Ugly Numbers"
   ]
  },
  {
   "cell_type": "markdown",
   "metadata": {},
   "source": [
    "문제 : http://codingdojang.com/scode/436"
   ]
  },
  {
   "cell_type": "markdown",
   "metadata": {},
   "source": [
    "# 내 풀이"
   ]
  },
  {
   "cell_type": "code",
   "execution_count": 79,
   "metadata": {
    "ExecuteTime": {
     "end_time": "2020-03-16T05:08:15.345151Z",
     "start_time": "2020-03-16T05:08:15.337173Z"
    },
    "scrolled": true
   },
   "outputs": [
    {
     "data": {
      "text/plain": [
       "[1,\n",
       " 2,\n",
       " 3,\n",
       " 4,\n",
       " 5,\n",
       " 8,\n",
       " 9,\n",
       " 16,\n",
       " 25,\n",
       " 27,\n",
       " 32,\n",
       " 64,\n",
       " 81,\n",
       " 125,\n",
       " 128,\n",
       " 243,\n",
       " 256,\n",
       " 512,\n",
       " 625,\n",
       " 729,\n",
       " 2187,\n",
       " 3125,\n",
       " 6561,\n",
       " 15625,\n",
       " 19683,\n",
       " 78125,\n",
       " 390625,\n",
       " 1953125]"
      ]
     },
     "execution_count": 79,
     "metadata": {},
     "output_type": "execute_result"
    }
   ],
   "source": [
    "a=[]\n",
    "for i in range(10):\n",
    "    b=pow(2,i)\n",
    "    c=pow(3,i)\n",
    "    d=pow(5,i)\n",
    "    a.append(b)\n",
    "    a.append(c)\n",
    "    a.append(d)\n",
    "set1=set(a)\n",
    "a=list(set1)\n",
    "a.sort()\n",
    "a"
   ]
  },
  {
   "cell_type": "markdown",
   "metadata": {},
   "source": [
    "틀렸다..."
   ]
  },
  {
   "cell_type": "markdown",
   "metadata": {},
   "source": [
    "# 풀이 1"
   ]
  },
  {
   "cell_type": "code",
   "execution_count": 100,
   "metadata": {
    "ExecuteTime": {
     "end_time": "2020-03-16T08:25:16.904476Z",
     "start_time": "2020-03-16T08:25:16.479578Z"
    }
   },
   "outputs": [
    {
     "name": "stdout",
     "output_type": "stream",
     "text": [
      "859963392\n"
     ]
    }
   ],
   "source": [
    "def ugly(n):\n",
    "    result = [1]\n",
    "    while True:\n",
    "        last = result[-1]\n",
    "        if len(result)==n:\n",
    "            return last\n",
    "        \n",
    "        tmp = []\n",
    "        for r in result:\n",
    "            for t in r*2, r*3, r*5:\n",
    "                if t > last:\n",
    "                    tmp.append(t)\n",
    "                    \n",
    "        result.append(min(tmp))\n",
    "        \n",
    "print(ugly(1500))"
   ]
  }
 ],
 "metadata": {
  "hide_input": false,
  "kernelspec": {
   "display_name": "Python 3",
   "language": "python",
   "name": "python3"
  },
  "language_info": {
   "codemirror_mode": {
    "name": "ipython",
    "version": 3
   },
   "file_extension": ".py",
   "mimetype": "text/x-python",
   "name": "python",
   "nbconvert_exporter": "python",
   "pygments_lexer": "ipython3",
   "version": "3.5.2"
  },
  "toc": {
   "base_numbering": 1,
   "nav_menu": {},
   "number_sections": false,
   "sideBar": true,
   "skip_h1_title": false,
   "title_cell": "",
   "title_sidebar": "Contents",
   "toc_cell": true,
   "toc_position": {
    "height": "calc(100% - 180px)",
    "left": "10px",
    "top": "150px",
    "width": "165px"
   },
   "toc_section_display": true,
   "toc_window_display": true
  },
  "varInspector": {
   "cols": {
    "lenName": 16,
    "lenType": 16,
    "lenVar": 40
   },
   "kernels_config": {
    "python": {
     "delete_cmd_postfix": "",
     "delete_cmd_prefix": "del ",
     "library": "var_list.py",
     "varRefreshCmd": "print(var_dic_list())"
    },
    "r": {
     "delete_cmd_postfix": ") ",
     "delete_cmd_prefix": "rm(",
     "library": "var_list.r",
     "varRefreshCmd": "cat(var_dic_list()) "
    }
   },
   "types_to_exclude": [
    "module",
    "function",
    "builtin_function_or_method",
    "instance",
    "_Feature"
   ],
   "window_display": false
  }
 },
 "nbformat": 4,
 "nbformat_minor": 2
}
